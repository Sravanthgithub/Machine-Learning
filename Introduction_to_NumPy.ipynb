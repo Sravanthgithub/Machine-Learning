{
  "nbformat": 4,
  "nbformat_minor": 0,
  "metadata": {
    "colab": {
      "name": "Introduction to NumPy.ipynb",
      "provenance": [],
      "collapsed_sections": [],
      "toc_visible": true
    },
    "kernelspec": {
      "name": "python3",
      "display_name": "Python 3"
    }
  },
  "cells": [
    {
      "cell_type": "code",
      "metadata": {
        "id": "g2TWrGzPXGkh"
      },
      "source": [
        "print(\"Hello World!\")"
      ],
      "execution_count": null,
      "outputs": []
    },
    {
      "cell_type": "code",
      "metadata": {
        "id": "syIPTwaErU-y"
      },
      "source": [
        "# importing numpy\n",
        "import numpy as np"
      ],
      "execution_count": null,
      "outputs": []
    },
    {
      "cell_type": "markdown",
      "metadata": {
        "id": "Sp7E5bXmRWKe"
      },
      "source": [
        "# Numpy Arrays vs Python Lists\n",
        "By adding two simple vectors, you can observe the time taken by using python lists vs using NumPy arrays \n"
      ]
    },
    {
      "cell_type": "code",
      "metadata": {
        "id": "N-4OODZsPsKL"
      },
      "source": [
        "vec_size = 1000\n",
        "def add_python_lists():\n",
        "    X = range(vec_size)\n",
        "    Y = range(vec_size)\n",
        "    Z = [X[i] + Y[i] for i in range(len(X))]\n",
        "    return Z"
      ],
      "execution_count": null,
      "outputs": []
    },
    {
      "cell_type": "code",
      "metadata": {
        "id": "AreEUTxiYsvY"
      },
      "source": [
        "def add_numpy_arrays():\n",
        "    X = np.arange(vec_size)\n",
        "    Y = np.arange(vec_size)\n",
        "    Z = X + Y\n",
        "    return Z"
      ],
      "execution_count": null,
      "outputs": []
    },
    {
      "cell_type": "markdown",
      "metadata": {
        "id": "6UBhAteMIM6Z"
      },
      "source": [
        "**`%timeit`** function: `N` loops indicate that the function has been called `N` times to compute the average time to execute the function. \n",
        "\n",
        "Best of `K` indicates that the `%timeit` has been run `K` times to take the best average.\n",
        "\n",
        "These constants can also be modified and given as arguments to the `%timeit` function. To know more, run **`%timeit?`** in a new cell."
      ]
    },
    {
      "cell_type": "code",
      "metadata": {
        "id": "AOk831sVYarj"
      },
      "source": [
        "%timeit add_python_lists()"
      ],
      "execution_count": null,
      "outputs": []
    },
    {
      "cell_type": "code",
      "metadata": {
        "id": "TjIM2cD4ZGXk"
      },
      "source": [
        "%timeit add_numpy_arrays()"
      ],
      "execution_count": null,
      "outputs": []
    },
    {
      "cell_type": "markdown",
      "metadata": {
        "id": "FiLuf2Darq7K"
      },
      "source": [
        "# Creating NumPy Arrays"
      ]
    },
    {
      "cell_type": "markdown",
      "metadata": {
        "id": "bBtfIrxRqwng"
      },
      "source": [
        "### Creating NumPy Arrays: From Lists"
      ]
    },
    {
      "cell_type": "markdown",
      "metadata": {
        "id": "olkzI4I5ykMA"
      },
      "source": [
        "\n",
        "*   Numpy arrays can be created using a list with `numpy.array`\n",
        "*   All elements of a numpy array should be of the same type \n",
        "    *   `numpy.array` chooses a data type which fits all of the elements in the array\n",
        "    *   We can also specify the data type with the `dtype` parameter\n",
        "\n",
        "\n",
        "\n"
      ]
    },
    {
      "cell_type": "code",
      "metadata": {
        "id": "NCGhVIz2zFPz"
      },
      "source": [
        "np_array_from_list = np.array([1, 5, 7, 9, -2])\n",
        "print(\"np_array_from_list:\", np_array_from_list)"
      ],
      "execution_count": null,
      "outputs": []
    },
    {
      "cell_type": "code",
      "metadata": {
        "id": "KNg6tqznqhLH"
      },
      "source": [
        "boolean_array = np.array([False, True, True, False])\n",
        "print(\"boolean_array:\", boolean_array)\n",
        "\n",
        "typecasted_float_array = np.array([1, 5, 7, 9, -2], dtype=float)\n",
        "print(\"typecasted_float_array:\", typecasted_float_array)\n",
        "\n",
        "int_array = np.array([1, 5, 7, 9, -2], dtype=np.int16)\n",
        "print(\"int_array:\", int_array)\n",
        "\n",
        "typecasted_int_array = np.array([1, 5, 7, 9, -2.54], dtype=np.int64)\n",
        "print(\"typecasted_int_array:\", typecasted_int_array)"
      ],
      "execution_count": null,
      "outputs": []
    },
    {
      "cell_type": "markdown",
      "metadata": {
        "id": "2DX6DjEHr1XW"
      },
      "source": [
        "### Creating NumPy Constant Arrays"
      ]
    },
    {
      "cell_type": "markdown",
      "metadata": {
        "id": "nYWKWaP0zmXB"
      },
      "source": [
        "\n",
        "#### np.zeros\n",
        "*   `[np.zeros](shape, dtype=float)`\n",
        "  *   Returns a new array of given shape and type, filled with zeros.\n",
        "\n"
      ]
    },
    {
      "cell_type": "code",
      "metadata": {
        "id": "o6Qi_r9Pr4-B"
      },
      "source": [
        "zeros_5 = np.zeros(5)\n",
        "print(\"zeros_5:\", zeros_5)\n",
        "\n",
        "zeros_7 = np.zeros(7, dtype=int)\n",
        "print(\"zeros_7:\", zeros_7)"
      ],
      "execution_count": null,
      "outputs": []
    },
    {
      "cell_type": "markdown",
      "metadata": {
        "id": "QB_iwLxdzyp0"
      },
      "source": [
        "#### np.ones\n",
        "* `np.ones(shape, dtype=float)`\n",
        "  *   Returns a new array of given shape and type, filled with ones.\n"
      ]
    },
    {
      "cell_type": "code",
      "metadata": {
        "id": "kZ81ecASuXN_"
      },
      "source": [
        "ones_5 = np.ones(5)\n",
        "print(\"ones_5:\",ones_5)"
      ],
      "execution_count": null,
      "outputs": []
    },
    {
      "cell_type": "markdown",
      "metadata": {
        "id": "_AmJ3mLJvF5j"
      },
      "source": [
        "#### np.full\n",
        "* `np.full(shape, fill_value, dtype=None)`\n",
        "    *   Returns a new array of given shape and type, filled with `fill_value`.\n",
        "    *   The default data type is derived from the `fill_value`\n",
        "\n",
        "\n",
        "\n"
      ]
    },
    {
      "cell_type": "code",
      "metadata": {
        "id": "v8hvY3hCu21Q"
      },
      "source": [
        "fill_array = np.full(10, fill_value=7.5)\n",
        "print(\"fill_array:\",fill_array)"
      ],
      "execution_count": null,
      "outputs": []
    },
    {
      "cell_type": "code",
      "metadata": {
        "id": "a0hEJk5Jumgx"
      },
      "source": [
        "fill_int_array = np.full(10, fill_value=7.5, dtype=int)\n",
        "print(\"fill_int_array:\",fill_int_array)\n",
        "\n",
        "fill_bool_array = np.full(6, fill_value=False)\n",
        "print(\"fill_bool_array:\",fill_bool_array)"
      ],
      "execution_count": null,
      "outputs": []
    },
    {
      "cell_type": "markdown",
      "metadata": {
        "id": "QS3qxMOvvpKc"
      },
      "source": [
        "### Creating NumPy Sequential Arrays\n"
      ]
    },
    {
      "cell_type": "markdown",
      "metadata": {
        "id": "gEa0nKxbNKfR"
      },
      "source": [
        "#### np.arange\n",
        "* `np.arange(start, stop, step, dtype=None)`\n",
        "  * Equivalent to the Python built-in range, but returns an `ndarray` rather than a list\n",
        "  * Values are generated within the half-open interval `[start, stop)` \n",
        "  * Much more efficient than `np.array(range(_))`"
      ]
    },
    {
      "cell_type": "code",
      "metadata": {
        "id": "saaPTweSvnRn"
      },
      "source": [
        "first_10_numbers = np.arange(10)\n",
        "print(\"first_10_numbers:\",first_10_numbers)"
      ],
      "execution_count": null,
      "outputs": []
    },
    {
      "cell_type": "code",
      "metadata": {
        "id": "Ch4PL5c8v-hW"
      },
      "source": [
        "numbers_with_step = np.arange(5, 13, 2, dtype=float)\n",
        "print(\"numbers_with_step:\",numbers_with_step)\n",
        "\n",
        "numbers_with_neg_step = np.arange(5, -6, -1)\n",
        "print(\"numbers_with_neg_step:\",numbers_with_neg_step)\n"
      ],
      "execution_count": null,
      "outputs": []
    },
    {
      "cell_type": "markdown",
      "metadata": {
        "id": "tyVdzqOT0_5y"
      },
      "source": [
        "#### np.linspace\n",
        "\n",
        "* `np.linspace(start, stop, num=50, endpoint=True, retstep=False, dtype=None)`\n",
        "\n",
        "    *   Returns evenly spaced numbers, calculated over the interval `[start, stop]`. The number of evenly spaced numbers returned is equal to `num`\n",
        "\n",
        "    *   Can control whether the last number `stop` can be included or excluded with the `endpoint` parameter\n"
      ]
    },
    {
      "cell_type": "code",
      "metadata": {
        "id": "jj5m1jHyJ0g5"
      },
      "source": [
        "a = 4.0\n",
        "b = 5.0\n",
        "n = 6\n",
        "sequential_array = np.linspace(a, b, num=n)\n",
        "print(\"sequential_array:\",sequential_array)"
      ],
      "execution_count": null,
      "outputs": []
    },
    {
      "cell_type": "code",
      "metadata": {
        "id": "HeJPOWLHK7tc"
      },
      "source": [
        "sequential_array_to_exclude_end = np.linspace(a, b, num=n, endpoint=False)\n",
        "print(\"sequential_array_to_exclude_end:\",sequential_array_to_exclude_end)"
      ],
      "execution_count": null,
      "outputs": []
    },
    {
      "cell_type": "markdown",
      "metadata": {
        "id": "MkK16mfOOAHx"
      },
      "source": [
        "##### Visualisation \n",
        "Visualising the numpy arrays created using `np.linspace`"
      ]
    },
    {
      "cell_type": "code",
      "metadata": {
        "id": "_-IQgFerN1ZC"
      },
      "source": [
        "import matplotlib.pyplot as plt\n",
        "N = 8\n",
        "y = np.zeros(N)\n",
        "x1 = np.linspace(0, 10, N, endpoint=True)\n",
        "x2 = np.linspace(0, 10, N, endpoint=False)\n",
        "plt.plot(x1, y, 'o')\n",
        "plt.plot(x2, y + 0.5, 'o')\n",
        "plt.ylim([-0.5, 1])\n",
        "plt.show()"
      ],
      "execution_count": null,
      "outputs": []
    },
    {
      "cell_type": "markdown",
      "metadata": {
        "id": "o2tMZQRBbJ04"
      },
      "source": [
        "#### np.empty()\n",
        " `np.empty` creates an uninitialized empty array of the given shape. It might contain garbage values.\n"
      ]
    },
    {
      "cell_type": "code",
      "metadata": {
        "id": "SzfP8O6MbHSP"
      },
      "source": [
        "\n",
        "empty_array = np.empty(4, dtype=int)\n",
        "print(\"empty_array:\",empty_array)"
      ],
      "execution_count": null,
      "outputs": []
    },
    {
      "cell_type": "markdown",
      "metadata": {
        "id": "pvWPzqTwbOD6"
      },
      "source": [
        "#### np.random.random()\n",
        "`np.random.random` creates an array of the given shape with random values in the interval [0,1]\n"
      ]
    },
    {
      "cell_type": "code",
      "metadata": {
        "id": "_l-Pu-jLbMcK"
      },
      "source": [
        "\n",
        "random_valued_array = np.random.random(4)\n",
        "print(\"random_valued_array:\",random_valued_array)"
      ],
      "execution_count": null,
      "outputs": []
    },
    {
      "cell_type": "markdown",
      "metadata": {
        "id": "cnNHSEflL_RL"
      },
      "source": [
        "### Summary: Creating NumPy Arrays\n",
        "\n",
        "\n",
        "\n"
      ]
    },
    {
      "cell_type": "markdown",
      "metadata": {
        "id": "jMWlCe4fLguA"
      },
      "source": [
        "\n",
        "\n",
        "\n",
        "*   `np.array`\n",
        "*   `np.zeros`, `np.ones`, `np.full`\n",
        "*   `np.arange`, `np.linspace`\n",
        "*   `np.empty`\n",
        "*   `np.random.random`\n",
        "\n",
        "\n",
        "\n",
        "\n",
        "\n"
      ]
    }
  ]
}
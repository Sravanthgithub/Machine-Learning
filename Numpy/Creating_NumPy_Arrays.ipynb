{
  "nbformat": 4,
  "nbformat_minor": 0,
  "metadata": {
    "colab": {
      "name": "Creating NumPy Arrays.ipynb",
      "provenance": [],
      "collapsed_sections": [
        "ZH19oHiDbtPm",
        "zUgtQFoB4muK",
        "pP2txMDm5Ru0",
        "PqMec3Cf6jwM",
        "4JNkCLL3bBUh",
        "DDe8EZKQbKax",
        "2Yu-_SULbtP0",
        "mQ1c7vm6btPw",
        "GLXdV7ilbtP7"
      ],
      "toc_visible": true
    },
    "kernelspec": {
      "name": "python3",
      "display_name": "Python 3"
    }
  },
  "cells": [
    {
      "cell_type": "code",
      "metadata": {
        "id": "FiLH3JPhbtO_"
      },
      "source": [
        "print(\"Hello World!\")"
      ],
      "execution_count": null,
      "outputs": []
    },
    {
      "cell_type": "code",
      "metadata": {
        "id": "qd-8WG4KbtPL"
      },
      "source": [
        "# importing numpy\n",
        "import numpy as np"
      ],
      "execution_count": null,
      "outputs": []
    },
    {
      "cell_type": "markdown",
      "metadata": {
        "id": "ySpQZTSubtPS"
      },
      "source": [
        "# Numpy Arrays vs Python Lists\n",
        "By adding two simple vectors, you can observe the time taken by using python lists vs using NumPy arrays \n"
      ]
    },
    {
      "cell_type": "code",
      "metadata": {
        "id": "tNv_y2a7btPT"
      },
      "source": [
        "vec_size = 1000\n",
        "def add_python_lists():\n",
        "    X = range(vec_size)\n",
        "    Y = range(vec_size)\n",
        "    Z = [X[i] + Y[i] for i in range(len(X))]\n",
        "    return Z"
      ],
      "execution_count": null,
      "outputs": []
    },
    {
      "cell_type": "code",
      "metadata": {
        "id": "AreEUTxiYsvY"
      },
      "source": [
        "def add_numpy_arrays():\n",
        "    X = np.arange(vec_size)\n",
        "    Y = np.arange(vec_size)\n",
        "    Z = X + Y\n",
        "    return Z"
      ],
      "execution_count": null,
      "outputs": []
    },
    {
      "cell_type": "markdown",
      "metadata": {
        "id": "6UBhAteMIM6Z"
      },
      "source": [
        "**`%timeit`** function: `N` loops indicate that the function has been called `N` times to compute the average time to execute the function. \n",
        "\n",
        "Best of `K` indicates that the `%timeit` has been run `K` times to take the best average.\n",
        "\n",
        "These constants can also be modified and given as arguments to the `%timeit` function. To know more, run **`%timeit?`** in a new cell."
      ]
    },
    {
      "cell_type": "code",
      "metadata": {
        "id": "AOk831sVYarj"
      },
      "source": [
        "%timeit -n 100 -r 1 add_python_lists()"
      ],
      "execution_count": null,
      "outputs": []
    },
    {
      "cell_type": "code",
      "metadata": {
        "id": "TjIM2cD4ZGXk"
      },
      "source": [
        "%timeit -n 100000 -r 1 add_numpy_arrays()"
      ],
      "execution_count": null,
      "outputs": []
    },
    {
      "cell_type": "code",
      "metadata": {
        "id": "cb6Mx_BocsFj"
      },
      "source": [
        "%timeit?"
      ],
      "execution_count": null,
      "outputs": []
    },
    {
      "cell_type": "markdown",
      "metadata": {
        "id": "IIoyz1wobtPm"
      },
      "source": [
        "# Creating NumPy Arrays"
      ]
    },
    {
      "cell_type": "markdown",
      "metadata": {
        "id": "ZH19oHiDbtPm"
      },
      "source": [
        "### Creating NumPy Arrays from Lists"
      ]
    },
    {
      "cell_type": "markdown",
      "metadata": {
        "id": "HH7x1PEWbtPn"
      },
      "source": [
        "\n",
        "*   Numpy arrays can be created using a list with `numpy.array`\n",
        "*   All elements of a numpy array should be of the same type \n",
        "    *   `numpy.array` chooses a type which can fit all of the elements of the array\n",
        "    *   We can also specify type of elements with `dtype` parameter\n",
        "\n",
        "\n",
        "\n"
      ]
    },
    {
      "cell_type": "code",
      "metadata": {
        "id": "v2sLUZT8btPp"
      },
      "source": [
        "np_array_from_list = np.array([1, 5, 7, 9, -2])\n",
        "print(\"np_array_from_list:\", np_array_from_list)"
      ],
      "execution_count": null,
      "outputs": []
    },
    {
      "cell_type": "code",
      "metadata": {
        "id": "DkstljKebtPs"
      },
      "source": [
        "boolean_array = np.array([False, True, True, False])\n",
        "print(\"boolean_array:\", boolean_array)\n",
        "\n",
        "typecasted_float_array = np.array([1, 5, 7, 9, 2], dtype=float)\n",
        "print(\"typecasted_float_array:\", typecasted_float_array)\n",
        "\n",
        "int_array = np.array([1, 5, 7, 9, -2], dtype=np.int16)\n",
        "print(\"int_array:\", int_array)\n",
        "\n",
        "typecasted_int_array = np.array([1, 5, 7, 9, -2.54], dtype=np.int64)\n",
        "print(\"typecasted_int_array:\", typecasted_int_array)"
      ],
      "execution_count": null,
      "outputs": []
    },
    {
      "cell_type": "markdown",
      "metadata": {
        "id": "zUgtQFoB4muK"
      },
      "source": [
        "### dtype - Precision"
      ]
    },
    {
      "cell_type": "code",
      "metadata": {
        "id": "JXH83QKjDsIn"
      },
      "source": [
        "np.array([1.00001, 1.00001], dtype=np.float32)"
      ],
      "execution_count": null,
      "outputs": []
    },
    {
      "cell_type": "code",
      "metadata": {
        "id": "zkrhKUNutOgD"
      },
      "source": [
        "np.array([1.00000022, 1.00000022], dtype=np.float32)"
      ],
      "execution_count": null,
      "outputs": []
    },
    {
      "cell_type": "code",
      "metadata": {
        "id": "KVQkRQZh43Fm"
      },
      "source": [
        "np.array([1.00000022, 1.00000022], dtype=np.float64)"
      ],
      "execution_count": null,
      "outputs": []
    },
    {
      "cell_type": "markdown",
      "metadata": {
        "id": "pP2txMDm5Ru0"
      },
      "source": [
        "### Creating 2D Numpy Arrays\n"
      ]
    },
    {
      "cell_type": "code",
      "metadata": {
        "id": "HNMRS7xM5VfP"
      },
      "source": [
        "array_2d = np.array([[1, -2, 0], \n",
        "                     [3, 4, 2],\n",
        "                    [3, 8, 9]])"
      ],
      "execution_count": null,
      "outputs": []
    },
    {
      "cell_type": "markdown",
      "metadata": {
        "id": "PqMec3Cf6jwM"
      },
      "source": [
        "## `ndarray` Properties\n",
        "\n",
        "To return the number of elements in an array, we can use the `size` attribute, as shown below:\n"
      ]
    },
    {
      "cell_type": "code",
      "metadata": {
        "id": "kxgwSTgJ6l1r"
      },
      "source": [
        "print(array_2d.size)"
      ],
      "execution_count": null,
      "outputs": []
    },
    {
      "cell_type": "markdown",
      "metadata": {
        "id": "5RIFf6W56t5K"
      },
      "source": [
        "The number of dimensions of array can be obtained via the `ndim` attribute:"
      ]
    },
    {
      "cell_type": "code",
      "metadata": {
        "id": "JKJwlOpY6wnr"
      },
      "source": [
        "print(array_2d.ndim)"
      ],
      "execution_count": null,
      "outputs": []
    },
    {
      "cell_type": "markdown",
      "metadata": {
        "id": "t1QiP_dWGfM8"
      },
      "source": [
        "The number of elements along each array dimension can be obtained via `shape` attribute:"
      ]
    },
    {
      "cell_type": "code",
      "metadata": {
        "id": "y5KA3sJ-GolJ"
      },
      "source": [
        "array_2d = np.array([[1, -2, 0], \n",
        "                     [3, 4, 2]])\n",
        "print(array_2d.shape)"
      ],
      "execution_count": null,
      "outputs": []
    },
    {
      "cell_type": "markdown",
      "metadata": {
        "id": "fEs-JYOM6DAv"
      },
      "source": [
        "By default, NumPy infers the type of the array upon construction. Since we passed integers to the array, the `ndarray` object `array_2d` should be of the type `int64` on a 64-bit machine, which we can confirm by accessing the `dtype` attribute:"
      ]
    },
    {
      "cell_type": "code",
      "metadata": {
        "id": "eu7xTk2u5lMK"
      },
      "source": [
        "print(array_2d.dtype)"
      ],
      "execution_count": null,
      "outputs": []
    },
    {
      "cell_type": "markdown",
      "metadata": {
        "id": "4JNkCLL3bBUh"
      },
      "source": [
        "## Axis Direction - 1D"
      ]
    },
    {
      "cell_type": "markdown",
      "metadata": {
        "id": "kGk54vrkMNKN"
      },
      "source": [
        "![1D.png](data:image/png;base64,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)"
      ]
    },
    {
      "cell_type": "markdown",
      "metadata": {
        "id": "DDe8EZKQbKax"
      },
      "source": [
        "## Axis Direction - 2D"
      ]
    },
    {
      "cell_type": "markdown",
      "metadata": {
        "id": "75ewToH1Mpey"
      },
      "source": [
        "![v2d.png](data:image/png;base64,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)"
      ]
    },
    {
      "cell_type": "markdown",
      "metadata": {
        "id": "DqAczj_IbtPv"
      },
      "source": [
        "## Creating NumPy Arrays with Constant Values"
      ]
    },
    {
      "cell_type": "markdown",
      "metadata": {
        "id": "2Yu-_SULbtP0"
      },
      "source": [
        "### np.ones\n",
        "* `np.ones(shape, dtype=float)`\n",
        "  *   Returns a new array of given shape and type, filled with ones.\n"
      ]
    },
    {
      "cell_type": "code",
      "metadata": {
        "id": "PVFMVaPJbtP1"
      },
      "source": [
        "ones_5 = np.ones(5)\n",
        "print(\"ones_5:\",ones_5)"
      ],
      "execution_count": null,
      "outputs": []
    },
    {
      "cell_type": "code",
      "metadata": {
        "id": "Ly-ZD-ch8C6W"
      },
      "source": [
        "ones_2d = np.ones([3,4]) \n",
        "print(ones_2d)\n",
        "print(ones_2d.dtype)"
      ],
      "execution_count": null,
      "outputs": []
    },
    {
      "cell_type": "code",
      "metadata": {
        "id": "klU3igbC8Sg3"
      },
      "source": [
        "ones_2d = np.ones([2,3], dtype=np.int32) \n",
        "print(ones_2d)"
      ],
      "execution_count": null,
      "outputs": []
    },
    {
      "cell_type": "markdown",
      "metadata": {
        "id": "mQ1c7vm6btPw"
      },
      "source": [
        "\n",
        "### np.zeros\n",
        "*   `[np.zeros](shape, dtype=float)`\n",
        "  *   Returns a new array of given shape and type, filled with zeros.\n",
        "\n"
      ]
    },
    {
      "cell_type": "code",
      "metadata": {
        "id": "pNiOJe8abtPx"
      },
      "source": [
        "zeros_5 = np.zeros(5)\n",
        "print(\"zeros_5: \", zeros_5)\n",
        "\n",
        "zeros_2d = np.zeros([3,4], dtype=np.int32) \n",
        "print(\"zeros_2d: \\n\", zeros_2d)"
      ],
      "execution_count": null,
      "outputs": []
    },
    {
      "cell_type": "code",
      "metadata": {
        "id": "z6xK-UWWkq0G"
      },
      "source": [
        "np.zeros?"
      ],
      "execution_count": null,
      "outputs": []
    },
    {
      "cell_type": "markdown",
      "metadata": {
        "id": "GLXdV7ilbtP7"
      },
      "source": [
        "### np.full\n",
        "* `np.full(shape, fill_value, dtype=None)`\n",
        "    *   Returns a new array of the given shape and type, filled with `fill_value`.\n",
        "    *   The default data type is derived from the `fill_value`\n",
        "\n",
        "\n",
        "\n"
      ]
    },
    {
      "cell_type": "code",
      "metadata": {
        "id": "QGZswYYybtP8"
      },
      "source": [
        "fill_array = np.full([2,3], fill_value=6.19)\n",
        "print(fill_array)"
      ],
      "execution_count": null,
      "outputs": []
    },
    {
      "cell_type": "code",
      "metadata": {
        "id": "yW0zI1NDbtQA"
      },
      "source": [
        "int_array = np.full(10, fill_value=3.2, dtype=int)\n",
        "print(\"int_array: \",int_array)\n",
        "\n",
        "bool_array = np.full(6, fill_value=False)\n",
        "print(\"bool_array: \",bool_array)"
      ],
      "execution_count": null,
      "outputs": []
    },
    {
      "cell_type": "markdown",
      "metadata": {
        "id": "3d9aIDI39urY"
      },
      "source": [
        "## Other Array Construction Methods"
      ]
    },
    {
      "cell_type": "markdown",
      "metadata": {
        "id": "DLJd_hiubtQW"
      },
      "source": [
        "### np.empty()\n",
        " `np.empty` creates an uninitialized empty array of the given shape. It might contain garbage values.\n"
      ]
    },
    {
      "cell_type": "code",
      "metadata": {
        "id": "ojVgDSnqbtQW"
      },
      "source": [
        "empty_array = np.empty(4, dtype=int)\n",
        "print(empty_array)"
      ],
      "execution_count": null,
      "outputs": []
    },
    {
      "cell_type": "code",
      "metadata": {
        "id": "OjoXheRN-JpR"
      },
      "source": [
        "empty_2d = np.empty([2,4], dtype=np.float32)\n",
        "print(empty_2d)"
      ],
      "execution_count": null,
      "outputs": []
    },
    {
      "cell_type": "markdown",
      "metadata": {
        "id": "yS_57wBL-miI"
      },
      "source": [
        "### Identity matrix"
      ]
    },
    {
      "cell_type": "code",
      "metadata": {
        "id": "U_vYUxmD-qIP"
      },
      "source": [
        "identity_matrix = np.eye(7)\n",
        "print(identity_matrix)"
      ],
      "execution_count": null,
      "outputs": []
    },
    {
      "cell_type": "markdown",
      "metadata": {
        "id": "lebeaKI7-_Jj"
      },
      "source": [
        "### Diagonal Matrix"
      ]
    },
    {
      "cell_type": "code",
      "metadata": {
        "id": "otb85PacKPx_"
      },
      "source": [
        "diagonal_matrix = np.diag((1, 2, 3, 5, 8, 10))\n",
        "print(diagonal_matrix)"
      ],
      "execution_count": null,
      "outputs": []
    },
    {
      "cell_type": "markdown",
      "metadata": {
        "id": "UzD6lDXhbtQE"
      },
      "source": [
        "## Creating NumPy Sequential Arrays\n"
      ]
    },
    {
      "cell_type": "markdown",
      "metadata": {
        "id": "V-_awSbrbtQF"
      },
      "source": [
        "### np.arange\n",
        "* `np.arange(start, stop, step, dtype=None)`\n",
        "  * Equivalent to the Python built-in range, but returns an `ndarray` rather than a list\n",
        "  * Values are generated within the half-open interval `[start, stop)` \n",
        "  * Much more efficient than `np.array(range(_))`"
      ]
    },
    {
      "cell_type": "code",
      "metadata": {
        "id": "7VGzQ0pbbtQF"
      },
      "source": [
        "numbers_array = np.arange(10)\n",
        "print(\"array of first 10 numbers:\", numbers_array)"
      ],
      "execution_count": null,
      "outputs": []
    },
    {
      "cell_type": "code",
      "metadata": {
        "id": "AzbjUsJYf9RQ"
      },
      "source": [
        "numbers_list = list(range(10))\n",
        "print(\"list of first 10 numbers:\", numbers_list)"
      ],
      "execution_count": null,
      "outputs": []
    },
    {
      "cell_type": "code",
      "metadata": {
        "id": "UdjCsR1Wg1KD"
      },
      "source": [
        "numbers_with_start_and_stop = np.arange(start=3, stop=10)\n",
        "print(\"numbers with start & stop:\", numbers_with_start_and_stop)"
      ],
      "execution_count": null,
      "outputs": []
    },
    {
      "cell_type": "code",
      "metadata": {
        "id": "Odda-DcIhJsx"
      },
      "source": [
        "numbers_with_step = np.arange(start=5, stop=13, step=2) \n",
        "print(\"numbers with step size:\", numbers_with_step)"
      ],
      "execution_count": null,
      "outputs": []
    },
    {
      "cell_type": "code",
      "metadata": {
        "id": "_z-YllaPbtQJ"
      },
      "source": [
        "numbers_with_neg_step = np.arange(15, 6, -1)\n",
        "print(\"numbers with negative step:\", numbers_with_neg_step)"
      ],
      "execution_count": null,
      "outputs": []
    },
    {
      "cell_type": "code",
      "metadata": {
        "id": "Z7NlnT_Bkx6x"
      },
      "source": [
        "numbers_with_float_step = np.arange(start=9, stop=10, step=0.1111111111111)\n",
        "print(\"numbers with floating point step:\", numbers_with_float_step)"
      ],
      "execution_count": null,
      "outputs": []
    },
    {
      "cell_type": "markdown",
      "metadata": {
        "id": "zlPMYMsibtQM"
      },
      "source": [
        "### np.linspace\n",
        "\n",
        "* `np.linspace(start, stop, num=50, endpoint=True, retstep=False, dtype=None)`\n",
        "\n",
        "    *   Returns evenly spaced numbers, calculated over the interval `[start, stop]`. The number of evenly spaced numbers returned is equal to `num`\n",
        "\n",
        "    *   Can control whether the last number `stop` can be included or excluded with the `endpoint` parameter\n"
      ]
    },
    {
      "cell_type": "code",
      "metadata": {
        "id": "S6i-6z5EbtQM"
      },
      "source": [
        "seq_array = np.linspace(start=4.0, stop=6.0, num=5)\n",
        "print(\"sequential array with linear spacing:\", seq_array)"
      ],
      "execution_count": null,
      "outputs": []
    },
    {
      "cell_type": "code",
      "metadata": {
        "id": "l3rpCI22mrBp"
      },
      "source": [
        "seq_array_without_num = np.linspace(start=4.0, stop=6.0)\n",
        "print(\"linspace array without num:\", seq_array_without_num)"
      ],
      "execution_count": null,
      "outputs": []
    },
    {
      "cell_type": "code",
      "metadata": {
        "id": "sloI3ZaubtQP"
      },
      "source": [
        "seq_array_excluding_endpoint = np.linspace(start=4.0, stop=6.0, num=5, endpoint=False)\n",
        "print(\"linspace array excluding endpoint:\", seq_array_excluding_endpoint)"
      ],
      "execution_count": null,
      "outputs": []
    },
    {
      "cell_type": "code",
      "metadata": {
        "id": "suOzhUVknRFE"
      },
      "source": [
        "seq_array_with_retstep = np.linspace(start=4.0, stop=6.0, num=5, endpoint=False, retstep=True)\n",
        "print(\"linspace array with retstep:\", seq_array_with_retstep)"
      ],
      "execution_count": null,
      "outputs": []
    },
    {
      "cell_type": "code",
      "metadata": {
        "id": "ZUqpJgYEoJXv"
      },
      "source": [
        "seq_2d_array = np.linspace(start=[2, 3, 5], stop=[4, 6, 7], num=5)\n",
        "print(\"linspace array in 2D: \\n\", seq_2d_array)"
      ],
      "execution_count": null,
      "outputs": []
    },
    {
      "cell_type": "code",
      "metadata": {
        "id": "ZBfmvNwgoVs5"
      },
      "source": [
        "seq_2d_array_axis_1 = np.linspace(start=[2, 3, 5], stop=[4, 6, 7], num=5, axis=1)\n",
        "print(\"linspace array in 2D along axis 1: \\n\", seq_2d_array_axis_1)"
      ],
      "execution_count": null,
      "outputs": []
    },
    {
      "cell_type": "code",
      "metadata": {
        "id": "RsKj17fZpjWo"
      },
      "source": [
        "geo_space = np.geomspace(start=1, stop=128, num=8)\n",
        "print(\"geometrically spaced array: \", geo_space)"
      ],
      "execution_count": null,
      "outputs": []
    },
    {
      "cell_type": "code",
      "metadata": {
        "id": "btFGKbMSqhc6"
      },
      "source": [
        "log_space = np.logspace(start=2, stop=10, num=5, base=2)\n",
        "print(\"geometrically spaced array: \", log_space)"
      ],
      "execution_count": null,
      "outputs": []
    },
    {
      "cell_type": "markdown",
      "metadata": {
        "id": "i9MciXyXbtQS"
      },
      "source": [
        "#### Visualisation \n",
        "Visualising the numpy arrays created using `np.linspace`"
      ]
    },
    {
      "cell_type": "code",
      "metadata": {
        "id": "baF2cd4ebtQT"
      },
      "source": [
        "import matplotlib.pyplot as plt\n",
        "N1 = 6\n",
        "N2 = 6\n",
        "x1 = np.linspace(0, 10, N1, endpoint=True)\n",
        "x2 = np.linspace(0, 10, N2, endpoint=False)\n",
        "y1 = np.zeros(N1)\n",
        "y2 = np.zeros(N2) + 0.2\n",
        "plt.plot(x1, y1, 'o')\n",
        "plt.plot(x2, y2, 'o')\n",
        "plt.ylim([-0.5, 1])\n",
        "plt.show()"
      ],
      "execution_count": null,
      "outputs": []
    },
    {
      "cell_type": "markdown",
      "metadata": {
        "id": "-c7T0wmUbtQa"
      },
      "source": [
        "## np.random.random()\n",
        "`np.random.random` creates an array of the given shape with random values in the interval [0,1]\n"
      ]
    },
    {
      "cell_type": "code",
      "metadata": {
        "id": "_Hh2pafpbtQb"
      },
      "source": [
        "random_valued_array = np.random.random(4)\n",
        "print(\"random_valued_array:\", random_valued_array)"
      ],
      "execution_count": null,
      "outputs": []
    },
    {
      "cell_type": "code",
      "metadata": {
        "id": "k6xfvUQFB8sT"
      },
      "source": [
        "random_2d = np.random.random([3,2])\n",
        "print(random_2d)"
      ],
      "execution_count": null,
      "outputs": []
    },
    {
      "cell_type": "markdown",
      "metadata": {
        "id": "YNIrQTas6QU9"
      },
      "source": [
        "## nD Arrays\n",
        "\n",
        "\n",
        "\n",
        "\n"
      ]
    },
    {
      "cell_type": "code",
      "metadata": {
        "id": "YhNktPYb3SZH"
      },
      "source": [
        "array_1D = np.array(['A', 'B', 'C'])\n",
        "array_1D"
      ],
      "execution_count": null,
      "outputs": []
    },
    {
      "cell_type": "code",
      "metadata": {
        "id": "hNaiRm_F3jDR"
      },
      "source": [
        "array_2D = np.array([['A','B','C'],\n",
        "                    ['D','E','F'],\n",
        "                    ['G','H','I']])\n",
        "array_2D"
      ],
      "execution_count": null,
      "outputs": []
    },
    {
      "cell_type": "code",
      "metadata": {
        "id": "V6qqHwlf3ys_"
      },
      "source": [
        "array_3D = np.array([[['A', 'B', 'C'],\n",
        "                    ['D', 'E', 'F'],\n",
        "                    ['G', 'H', 'I']],\n",
        "\n",
        "                    [['J', 'K', 'L'],\n",
        "                    ['M', 'N', 'O'],\n",
        "                    ['P', 'Q', 'R']],\n",
        "\n",
        "                    [['S', 'T', 'U'],\n",
        "                    ['V', 'W', 'X'],\n",
        "                    ['A', 'Y', 'Z']]])\n",
        "array_3D"
      ],
      "execution_count": null,
      "outputs": []
    },
    {
      "cell_type": "code",
      "metadata": {
        "id": "zva0Rn8V373b"
      },
      "source": [
        "array_4D = np.array([[[['A', 'B'],\n",
        "                    ['C', 'D'],\n",
        "                    ['E', 'F']],\n",
        "\n",
        "                    [['G', 'H'],\n",
        "                    ['I', 'J'],\n",
        "                    ['K', 'L']],\n",
        "\n",
        "                    [['M', 'N'],\n",
        "                    ['O', 'P'],\n",
        "                    ['Q', 'R']]],\n",
        "\n",
        "\n",
        "                    [[['S', 'T'],\n",
        "                    ['U', 'V'],\n",
        "                    ['W', 'X']],\n",
        "\n",
        "                    [['Y', 'Z'],\n",
        "                    ['A', 'B'],\n",
        "                    ['C', 'D']],\n",
        "\n",
        "                    [['E', 'F'],\n",
        "                    ['G', 'H'],\n",
        "                    ['I', 'J']]]])\n",
        "array_4D"
      ],
      "execution_count": null,
      "outputs": []
    },
    {
      "cell_type": "code",
      "metadata": {
        "id": "zYlwb6bi4uZt"
      },
      "source": [
        "ones_3d = np.ones([2, 3, 4], dtype=np.int32) \n",
        "print(ones_3d)"
      ],
      "execution_count": null,
      "outputs": []
    },
    {
      "cell_type": "code",
      "metadata": {
        "id": "gjzj00H844Hr"
      },
      "source": [
        "zeros_4d = np.zeros([2, 3, 3, 2], dtype=np.int32) \n",
        "print(zeros_4d)"
      ],
      "execution_count": null,
      "outputs": []
    },
    {
      "cell_type": "markdown",
      "metadata": {
        "id": "hXhX1X2hbtQf"
      },
      "source": [
        "## Summary: Creating NumPy Arrays\n",
        "\n",
        "\n",
        "\n"
      ]
    },
    {
      "cell_type": "markdown",
      "metadata": {
        "id": "F0KVOEB0btQf"
      },
      "source": [
        "\n",
        "*   `np.array`\n",
        "*   `np.zeros`, `np.ones`, `np.full`\n",
        "*   `np.arange`, `np.linspace`\n",
        "*   `np.empty`\n",
        "*   `np.random.random`\n",
        "*   `nD Arrays`\n",
        "\n",
        "\n",
        "\n",
        "\n",
        "\n"
      ]
    }
  ]
}
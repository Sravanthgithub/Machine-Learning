{
  "nbformat": 4,
  "nbformat_minor": 0,
  "metadata": {
    "colab": {
      "name": "Array Operations & Ufuncs.ipynb",
      "provenance": [],
      "collapsed_sections": []
    },
    "kernelspec": {
      "name": "python3",
      "display_name": "Python 3"
    }
  },
  "cells": [
    {
      "cell_type": "code",
      "metadata": {
        "id": "qd-8WG4KbtPL"
      },
      "source": [
        "# importing numpy\n",
        "import numpy as np"
      ],
      "execution_count": null,
      "outputs": []
    },
    {
      "cell_type": "markdown",
      "metadata": {
        "id": "f09q9tqhMAg4"
      },
      "source": [
        "# Operations on Numpy Arrays\n"
      ]
    },
    {
      "cell_type": "markdown",
      "metadata": {
        "id": "wHSbuH9fMGRC"
      },
      "source": [
        "### Adding Numpy Arrays vs Python Lists\n"
      ]
    },
    {
      "cell_type": "markdown",
      "metadata": {
        "id": "H0HJQa-ZMI9g"
      },
      "source": [
        "In Python, adding two Python Lists will create a new list that contains elements from both the lists in the given order **(List Concatenation)**.\n"
      ]
    },
    {
      "cell_type": "code",
      "metadata": {
        "id": "p_KyGt5GLdzP"
      },
      "source": [
        "concatented_list = [1, 5, 1, 0, 7] + [2, 4, 3, 1, 3]\n",
        "print(\"Concatenated List: \", concatented_list)"
      ],
      "execution_count": null,
      "outputs": []
    },
    {
      "cell_type": "markdown",
      "metadata": {
        "id": "2drcVLzsMcJr"
      },
      "source": [
        "But, when we add two NumPy Arrays, elements of one array will be added to the corresponding elements in the other array **(Vectorized Addition)**"
      ]
    },
    {
      "cell_type": "code",
      "metadata": {
        "id": "8usW3-ioMdTs"
      },
      "source": [
        "sum_of_two_arrays = np.array([1, 5, 13, 0, 7]) + np.array([2, 4, 8, 7, 13]) \n",
        "print(\"Sum of two arrays: \", sum_of_two_arrays)"
      ],
      "execution_count": null,
      "outputs": []
    },
    {
      "cell_type": "markdown",
      "metadata": {
        "id": "HErd1_kIQ0AS"
      },
      "source": [
        "### Operator Overloading"
      ]
    },
    {
      "cell_type": "code",
      "metadata": {
        "id": "qnCjjILHQ7k-"
      },
      "source": [
        "a = np.array([1, 5, 1, 0, 7])\n",
        "b = np.array([2, 4, 3, 1, 3])\n",
        "\n",
        "sum_a_b = np.add(a, b)\n",
        "print(\"sum of two arrays with add function: \", sum_a_b)"
      ],
      "execution_count": null,
      "outputs": []
    },
    {
      "cell_type": "code",
      "metadata": {
        "id": "tqWKHXkvhg49"
      },
      "source": [
        "sum_with_operator = a + b\n",
        "print(\"sum of two arrays with + operator: \", sum_with_operator)"
      ],
      "execution_count": null,
      "outputs": []
    },
    {
      "cell_type": "markdown",
      "metadata": {
        "id": "l__HNPn2lQMt"
      },
      "source": [
        "### Vectorized Operations with NumPy"
      ]
    },
    {
      "cell_type": "code",
      "metadata": {
        "id": "v64x-o6KlSgR"
      },
      "source": [
        "vec_size = 1000\n",
        "a = np.arange(vec_size)\n",
        "b = np.arange(vec_size)"
      ],
      "execution_count": null,
      "outputs": []
    },
    {
      "cell_type": "code",
      "metadata": {
        "id": "S62JrGHSvuT0"
      },
      "source": [
        "def addition_with_loop():\n",
        "    sum_a_b = [a[i] + b[i] for i in range(len(a))]\n",
        "    return sum_a_b"
      ],
      "execution_count": null,
      "outputs": []
    },
    {
      "cell_type": "code",
      "metadata": {
        "id": "5Sq8aPXDvvyP"
      },
      "source": [
        "def vectorized_np_addition():\n",
        "    sum_a_b = a + b\n",
        "    return sum_a_b"
      ],
      "execution_count": null,
      "outputs": []
    },
    {
      "cell_type": "code",
      "metadata": {
        "id": "YN0AV9SmmSvl"
      },
      "source": [
        "%timeit addition_with_loop()"
      ],
      "execution_count": null,
      "outputs": []
    },
    {
      "cell_type": "code",
      "metadata": {
        "id": "73fG_3q8mdE7"
      },
      "source": [
        "%timeit vectorized_np_addition()"
      ],
      "execution_count": null,
      "outputs": []
    },
    {
      "cell_type": "markdown",
      "metadata": {
        "id": "oxOaJg-0QRfv"
      },
      "source": [
        "* As we have seen with addition, many other operators also support Vectorized Operations (we can apply element-wise operations without having to iterate over all the elements individually)\n",
        "\n",
        "* This enables us to do a lot of computations much faster and with less code."
      ]
    },
    {
      "cell_type": "markdown",
      "metadata": {
        "id": "QiCZC9GV8BrV"
      },
      "source": [
        "## Array Operations"
      ]
    },
    {
      "cell_type": "markdown",
      "metadata": {
        "id": "8pGwYdtWeFdX"
      },
      "source": [
        "### Arithmetic Operations"
      ]
    },
    {
      "cell_type": "markdown",
      "metadata": {
        "id": "8-gEZQHDaCFW"
      },
      "source": [
        "| Arithmetic Operation | Numpy Function | Python Operator |\n",
        "| :---------------: | :---------------: | :---------------: |\n",
        "|  Addition  | \t\tnp.add | + |\n",
        "|  Subtraction | np.subtract | - |\n",
        "|  Multiplication  | \tnp.multiply | * |\n",
        "|  Division | \tnp.divide | / |\n",
        "|  Integer Division | \tnp.floor_divide | // |\n",
        "|  Modulo Operation | \tnp.mod | % |\n",
        "|  \tPower | np.power | ** |\n",
        "\n",
        "\n",
        " "
      ]
    },
    {
      "cell_type": "code",
      "metadata": {
        "id": "l5qAfayseEa7"
      },
      "source": [
        "a = np.array([1, 5, 1, 0, 7])\n",
        "b = np.array([2, 4, 3, 1, 3])\n",
        "\n",
        "difference = np.subtract(a, b)\n",
        "print(\"difference: \", difference)\n",
        "\n",
        "product = np.multiply(a, b)\n",
        "print(\"product: \", product)\n",
        "\n",
        "division = np.divide(a, b)\n",
        "print(\"division: \", division)\n",
        "\n",
        "floor_division = np.floor_divide(a, b)\n",
        "print(\"floor_division: \", floor_division)\n",
        "\n",
        "remainder = np.mod(a, b)\n",
        "print(\"remainder: \", remainder)\n",
        "\n",
        "a_power_b_with_function = np.power(a, b)\n",
        "print(\"a_power_b_with_function: \", a_power_b_with_function)\n",
        "\n",
        "a_power_b_with_operator = a**b\n",
        "print(\"a_power_b_with_operator: \", a_power_b_with_operator)"
      ],
      "execution_count": null,
      "outputs": []
    },
    {
      "cell_type": "markdown",
      "metadata": {
        "id": "XTl7Yjpcdo08"
      },
      "source": [
        "### Relational Operations"
      ]
    },
    {
      "cell_type": "markdown",
      "metadata": {
        "id": "wcXPxOF_hr0L"
      },
      "source": [
        "\n",
        " | Relational Operation | Numpy Function | Python Operator |\n",
        "| :---------------: | :---------------: | :---------------: |\n",
        "|  Greater Than  | \t\tnp.greater | > |\n",
        "|  Greater Than Equal | np.greater_equal | >= |\n",
        "|  Less Than  | \tnp.less | < |\n",
        "|  Less Than Equal | \tnp.less_equal | <= |\n",
        "|  Equal | \tnp.equal | == |\n",
        "|  Not Equal | \tnp.not_equal\t | != |\n",
        "\n",
        "\n",
        "\n",
        "\n",
        "*   Relational Operations return Boolean Arrays\n",
        "\n"
      ]
    },
    {
      "cell_type": "code",
      "metadata": {
        "id": "_JhkmpuPxAa5"
      },
      "source": [
        "a = np.array([1, 5, 1, 0, 7])\n",
        "b = np.array([2, 4, 3, 1, 3])\n",
        "\n",
        "print(\"np.greater(a, b):\", np.greater(a, b))\n",
        "print(\"           a > b:\", a > b, \"\\n\")\n",
        "\n",
        "print(\"np.greater_equal(a, b):\", np.greater_equal(a, b))\n",
        "print(\"                a >= b:\", a >= b, \"\\n\")\n",
        "\n",
        "print(\"np.less(a, b):\", np.less(a, b))\n",
        "print(\"        a < b:\", a < b, \"\\n\")\n",
        "\n",
        "print(\"np.less_equal(a, b):\", np.less_equal(a, b))\n",
        "print(\"             a <= b:\", a <= b, \"\\n\")\n",
        "\n",
        "print(\"np.equal(a, b):\", np.equal(a, b))\n",
        "print(\"        a == b:\", a == b, \"\\n\")\n",
        "\n",
        "print(\"np.not_equal(a, b):\", np.not_equal(a, b))\n",
        "print(\"            a != b:\", a != b)"
      ],
      "execution_count": null,
      "outputs": []
    },
    {
      "cell_type": "markdown",
      "metadata": {
        "id": "5w4gDfwXhq7m"
      },
      "source": [
        "### Bitwise Operations"
      ]
    },
    {
      "cell_type": "markdown",
      "metadata": {
        "id": "HO7xINvzhq7n"
      },
      "source": [
        " | Bitwise Operation | Numpy Function | Python Operator |\n",
        "| :---------------: | :---------------: | :---------------: |\n",
        "|  Bitwise AND  | \t\tnp.bitwise_and | & |\n",
        "|  Bitwise OR | np.bitwise_or | \\| |\n",
        "|  Bitwise XOR  | \tnp.bitwise_xor | ^ |\n",
        "|  Bitwise NOT | \tnp.invert | ~ |\n",
        "|  Left Shift | \tnp.left_shift | << |\n",
        "|  Right Shift | \tnp.right_shift | >> |\n",
        "\n",
        "\n",
        " \n",
        " \n",
        " \n",
        " "
      ]
    },
    {
      "cell_type": "code",
      "metadata": {
        "id": "E4seViqtxiKM"
      },
      "source": [
        "a = np.array([1, 0, 1, 0, 1])\n",
        "b = np.array([1, 0, 0, 1, 1])\n",
        "print(\"np.bitwise_and(a, b):\", np.bitwise_and(a, b))\n",
        "print(\"               a & b:\", a & b)"
      ],
      "execution_count": null,
      "outputs": []
    },
    {
      "cell_type": "code",
      "metadata": {
        "id": "HG3eCDGW3Yg4"
      },
      "source": [
        "print(\"np.bitwise_or(a, b):\", np.bitwise_or(a, b))\n",
        "print(\"              a | b:\", a | b, \"\\n\")\n",
        "\n",
        "print(\"np.bitwise_xor(a, b):\", np.bitwise_xor(a, b))\n",
        "print(\"               a ^ b:\", a ^ b, \"\\n\")\n",
        "\n",
        "print(\"np.invert(a):\", np.invert(a))\n",
        "print(\"          ~a:\", ~a, \"\\n\")\n",
        "\n",
        "print(\"np.left_shift(a, b):\", np.left_shift(a, b))\n",
        "print(\"             a << b:\", a << b, \"\\n\")\n",
        "\n",
        "print(\"np.right_shift(a, b):\", np.right_shift(a, b))\n",
        "print(\"              a >> b:\", a >> b, \"\\n\")"
      ],
      "execution_count": null,
      "outputs": []
    },
    {
      "cell_type": "markdown",
      "metadata": {
        "id": "EDUohhHgv-Ba"
      },
      "source": [
        "### Operations on 2D Arrays\n",
        "All the arithmetic, relational and bitwise operations can be done on 2D, 3D arrays and in general on nD arrays as well."
      ]
    },
    {
      "cell_type": "code",
      "metadata": {
        "id": "5hVeZ7B_wHGB"
      },
      "source": [
        "a = np.array([[1,3,2],\n",
        "              [0,2,-1]])\n",
        "\n",
        "b = np.array([[1,1,1],\n",
        "              [2,2,2]])\n",
        "\n",
        "print(\"a + b:\\n\", a + b, \"\\n\")\n",
        "print(\"a > b:\\n\", a > b)"
      ],
      "execution_count": null,
      "outputs": []
    },
    {
      "cell_type": "markdown",
      "metadata": {
        "id": "4lh9wl8VW2oc"
      },
      "source": [
        "## Linear Algebra"
      ]
    },
    {
      "cell_type": "markdown",
      "metadata": {
        "id": "TIBrM0OTXHzq"
      },
      "source": [
        "### `numpy.matmul`"
      ]
    },
    {
      "cell_type": "markdown",
      "metadata": {
        "id": "3Dd35Mgoa1m-"
      },
      "source": [
        "The `matmul` function implements the semantics of the `@` operator introduced in Python 3.5."
      ]
    },
    {
      "cell_type": "code",
      "metadata": {
        "id": "sWhsUJ77-Lay"
      },
      "source": [
        "a = np.array([[3, 1, 2], \n",
        "              [4, 2, 1]])\n",
        "\n",
        "b = np.array([[2, 3], \n",
        "              [-1, 0], \n",
        "              [-3, 4]])\n",
        "\n",
        "print(\"shape of a:\", a.shape)\n",
        "print(\"shape of b:\", b.shape, \"\\n\")\n",
        "\n",
        "print(\"np.matmul(a, b):\\n\", np.matmul(a, b), \"\\n\")\n",
        "print(\"a @ b :\\n\", a @ b)"
      ],
      "execution_count": null,
      "outputs": []
    },
    {
      "cell_type": "markdown",
      "metadata": {
        "id": "X10DFUaHAUS4"
      },
      "source": [
        "**`matmul` in the case of Rank 1 Arrays**"
      ]
    },
    {
      "cell_type": "code",
      "metadata": {
        "id": "SmXWDEuG_rUE"
      },
      "source": [
        "a = np.array([3, 1, 2, 4])\n",
        "b = np.array([5, 2, 0, 1])\n",
        "\n",
        "print(\"shape of a:\", a.shape)\n",
        "print(\"shape of b:\", b.shape, \"\\n\")\n",
        "\n",
        "print(\"np.matmul(a, b):\\n\", np.matmul(a, b), \"\\n\")\n",
        "print(\"a @ b :\\n\", a @ b, \"\\n \\n\")\n",
        "\n",
        "print(\"np.matmul(b, a):\\n\", np.matmul(b, a), \"\\n\")\n",
        "print(\"b @ a :\\n\", b @ a)"
      ],
      "execution_count": null,
      "outputs": []
    },
    {
      "cell_type": "markdown",
      "metadata": {
        "id": "E1zW6mQjBP29"
      },
      "source": [
        "### Reshaping Rank-1 Arrays"
      ]
    },
    {
      "cell_type": "code",
      "metadata": {
        "id": "eEIwmEhyBS9J"
      },
      "source": [
        "a = np.array([3, 1, 2, 4])\n",
        "b = np.array([5, 2, 0, 1])\n",
        "\n",
        "print(\"shape of a:\", a.shape)\n",
        "print(\"shape of b:\", b.shape, \"\\n\")\n",
        "\n",
        "a = a.reshape(1, 4)\n",
        "b = b.reshape(4, 1)\n",
        "\n",
        "print(\"np.matmul(a, b):\\n\", np.matmul(a, b), \"\\n\")\n",
        "print(\"a @ b :\\n\", a @ b, \"\\n \\n\")\n",
        "\n",
        "print(\"np.matmul(b, a):\\n\", np.matmul(b, a), \"\\n\")\n",
        "print(\"b @ a :\\n\", b @ a)"
      ],
      "execution_count": null,
      "outputs": []
    },
    {
      "cell_type": "markdown",
      "metadata": {
        "id": "HAvp8lY6eyTJ"
      },
      "source": [
        "### Transpose of an array"
      ]
    },
    {
      "cell_type": "code",
      "metadata": {
        "id": "7-tEqxM1e7Xb"
      },
      "source": [
        "a = np.array([[3, 1, 2], \n",
        "              [4, 2, 1]])\n",
        "\n",
        "np.transpose(a)"
      ],
      "execution_count": null,
      "outputs": []
    },
    {
      "cell_type": "markdown",
      "metadata": {
        "id": "-xqWZcOAA3He"
      },
      "source": [
        "Can also use **`a.T`** to transpose an array"
      ]
    },
    {
      "cell_type": "code",
      "metadata": {
        "id": "ODPFjnQBA0KH"
      },
      "source": [
        "a = np.array([[3, 1, 2], \n",
        "              [4, 2, 1]])\n",
        "\n",
        "a.T"
      ],
      "execution_count": null,
      "outputs": []
    },
    {
      "cell_type": "markdown",
      "metadata": {
        "id": "EJutCt6JfENU"
      },
      "source": [
        "**Transposing Rank 1 arrays**"
      ]
    },
    {
      "cell_type": "code",
      "metadata": {
        "id": "zpjiw_d1fFTz"
      },
      "source": [
        "a = np.array([3, 1, 4, -2]).reshape(1, 4)\n",
        "print(\"Array before transposing: \\n\", a)\n",
        "\n",
        "b = np.transpose(a)\n",
        "print(\"Array after transposing: \\n\", b)"
      ],
      "execution_count": null,
      "outputs": []
    },
    {
      "cell_type": "code",
      "metadata": {
        "id": "O53Le23WAq6K"
      },
      "source": [
        "a = np.array([3, 1, 4, -2])\n",
        "print(\"Rank 1 Array before transposing: \\n\", a)\n",
        "\n",
        "b = np.transpose(a)\n",
        "print(\"Rank 1 Array after transposing: \\n\", b)"
      ],
      "execution_count": null,
      "outputs": []
    },
    {
      "cell_type": "markdown",
      "metadata": {
        "id": "7ARreMdociZA"
      },
      "source": [
        "### Other linear algebra functions\n",
        "[NumPy `linalg` Documentation](https://numpy.org/doc/stable/reference/routines.linalg.html)"
      ]
    },
    {
      "cell_type": "markdown",
      "metadata": {
        "id": "FzjgDuwVdwPb"
      },
      "source": [
        "Determinant of an array"
      ]
    },
    {
      "cell_type": "code",
      "metadata": {
        "id": "tBP6iOn3dkbF"
      },
      "source": [
        "a = np.array([[1, 2], \n",
        "              [1, 3]])\n",
        "\n",
        "determinant = np.linalg.det(a)\n",
        "print(\"Determinant of array:\", determinant)"
      ],
      "execution_count": null,
      "outputs": []
    },
    {
      "cell_type": "markdown",
      "metadata": {
        "id": "0Of2twted8j-"
      },
      "source": [
        "Multiplicative inverse of a matrix"
      ]
    },
    {
      "cell_type": "code",
      "metadata": {
        "id": "s_NvY1Vxcytl"
      },
      "source": [
        "a = np.array([[1, 2], \n",
        "              [1, 3]])\n",
        "\n",
        "inverse = np.linalg.inv(a)\n",
        "print(\"Inverse of array:\\n\", inverse)"
      ],
      "execution_count": null,
      "outputs": []
    },
    {
      "cell_type": "markdown",
      "metadata": {
        "id": "cbG8STneyryo"
      },
      "source": [
        "# Broadcasting"
      ]
    },
    {
      "cell_type": "markdown",
      "metadata": {
        "id": "-E98xoZMhHti"
      },
      "source": [
        "Broadcasting two arrays together follows these rules:\n",
        "\n",
        "*  Two arrays are said to be compatible in a dimension if \n",
        " * they have the same size in that dimension, or \n",
        " * one of the arrays has size 1 in that dimension.\n",
        "*   The arrays can be broadcast together if they are compatible in all dimensions.\n",
        "*   After broadcasting, each array behaves as if its shape is equal to the element-wise maximum of the shapes of the two input arrays.\n",
        "*   In any dimension where one array has a size of 1 and the other array has a size greater than 1, the first array behaves as if it were copied along that dimension.\n"
      ]
    },
    {
      "cell_type": "code",
      "metadata": {
        "id": "I9Dh2JBNgH2X"
      },
      "source": [
        "a = np.zeros((3, 4))\n",
        "b = np.array([1, 2 ,3, -1])\n",
        "\n",
        "print(\"a:\\n\", a, \"\\n\")\n",
        "print(\"b:\\n\", b, \"\\n\")\n",
        "print(\"a + b:\\n\", a + b)"
      ],
      "execution_count": null,
      "outputs": []
    },
    {
      "cell_type": "code",
      "metadata": {
        "id": "utYQnNDYgaKn"
      },
      "source": [
        "a = np.zeros((3,4))\n",
        "b = np.array([[1], \n",
        "              [2], \n",
        "              [3]])\n",
        "\n",
        "print(\"a:\\n\", a, \"\\n\")\n",
        "print(\"b:\\n\", b, \"\\n\")\n",
        "print(\"a + b:\\n\", a + b)"
      ],
      "execution_count": null,
      "outputs": []
    },
    {
      "cell_type": "code",
      "metadata": {
        "id": "TKAlDsDth3t0"
      },
      "source": [
        "a = np.zeros((3,4))\n",
        "\n",
        "print(\"a:\\n\", a, \"\\n\")\n",
        "print(\"a + b:\\n\", a + 5)"
      ],
      "execution_count": null,
      "outputs": []
    },
    {
      "cell_type": "code",
      "metadata": {
        "id": "fXkNr0rLh-oB"
      },
      "source": [
        "a = np.array([[3, 1, 2, -1],\n",
        "             [4, 2, 1, 0],\n",
        "             [-2, 1, 3, 4]])\n",
        "\n",
        "b = np.array([1, 0, 2, 1])\n",
        "\n",
        "print(\"a:\\n\", a, \"\\n\")\n",
        "print(\"b:\\n\", b, \"\\n\")\n",
        "print(\"a + b:\\n\", a + b)"
      ],
      "execution_count": null,
      "outputs": []
    },
    {
      "cell_type": "markdown",
      "metadata": {
        "id": "Vs2MI94LeerB"
      },
      "source": [
        "### Broadcasting and Masking"
      ]
    },
    {
      "cell_type": "code",
      "metadata": {
        "id": "7BqNI0XieUno"
      },
      "source": [
        "A = np.array([[3, 4, 1, 2],\n",
        "              [0, -1, 7, 9]])\n",
        "\n",
        "mask = A > 3\n",
        "print(\"mask created with broadcasting: \\n\", mask, \"\\n\")\n",
        "\n",
        "print(\"applying the mask on A: \\n\", A[mask])"
      ],
      "execution_count": null,
      "outputs": []
    },
    {
      "cell_type": "markdown",
      "metadata": {
        "id": "CmW9amGOd13V"
      },
      "source": [
        "# Other Useful Methods in NumPy"
      ]
    },
    {
      "cell_type": "markdown",
      "metadata": {
        "id": "lHH1CSiRHUe4"
      },
      "source": [
        "**A universal function (or ufunc for short) is a function that operates on ndarrays in an element-by-element fashion, supporting array broadcasting, type casting, and several other standard features.**\n",
        "\n",
        "**There are currently more than 60 universal functions defined in numpy on one or more types, covering a wide variety of operations.**\n",
        "\n",
        "You can find the list of ufuncs in this [documentation](https://numpy.org/doc/stable/reference/ufuncs.html)."
      ]
    },
    {
      "cell_type": "markdown",
      "metadata": {
        "id": "loOox2jOp6I3"
      },
      "source": [
        "### Sum of the elements of array"
      ]
    },
    {
      "cell_type": "markdown",
      "metadata": {
        "id": "Om9ebIdhbZe2"
      },
      "source": [
        "\n",
        "*   `np.sum(a, axis=None)`\n",
        "*   `ndarray.sum(axis=None)`\n",
        "  *   Returns the sum of array elements along the given axis. If axis is None, then it computes the sum of all the elements in the array."
      ]
    },
    {
      "cell_type": "code",
      "metadata": {
        "id": "-9lxo8M5ptd-"
      },
      "source": [
        "array_1d = np.array([1, 2, 3])\n",
        "\n",
        "print(\"sum of all elements:\", np.sum(array_1d))\n",
        "print(\"sum of all elements alternative:\", array_1d.sum())"
      ],
      "execution_count": null,
      "outputs": []
    },
    {
      "cell_type": "code",
      "metadata": {
        "id": "D_it8wDPbtJv"
      },
      "source": [
        "array_2d = np.array([[1, 2, 1], \n",
        "                    [-1, 0, 3]])\n",
        "\n",
        "array_2d_sum = array_2d.sum()\n",
        "print(\"sum of all elements:\", array_2d_sum)"
      ],
      "execution_count": null,
      "outputs": []
    },
    {
      "cell_type": "markdown",
      "metadata": {
        "id": "HZ-mmM_WbVAR"
      },
      "source": [
        "**Sum along different axes**"
      ]
    },
    {
      "cell_type": "code",
      "metadata": {
        "id": "R97LzDfjjrw-"
      },
      "source": [
        "sum_axis_0 = array_2d.sum(axis = 0)\n",
        "\n",
        "print(\"array_2d:\\n\", array_2d, \"\\n\")\n",
        "print(\"sum along axis 0:\", sum_axis_0)"
      ],
      "execution_count": null,
      "outputs": []
    },
    {
      "cell_type": "code",
      "metadata": {
        "id": "acMoCRcGjvRg"
      },
      "source": [
        "sum_axis_1 = array_2d.sum(axis = 1)\n",
        "\n",
        "print(\"array_2d:\\n\", array_2d, \"\\n\")\n",
        "print(\"sum along axis 1:\", sum_axis_1)"
      ],
      "execution_count": null,
      "outputs": []
    },
    {
      "cell_type": "markdown",
      "metadata": {
        "id": "A2ytmYYAqCvY"
      },
      "source": [
        "**Sum in 3D arrays**"
      ]
    },
    {
      "cell_type": "code",
      "metadata": {
        "id": "l5oJNa8onzsi"
      },
      "source": [
        "array_3d = np.array([[[ 1,  0],\n",
        "                      [ 2,  3],\n",
        "                      [ 1,  4],\n",
        "                      [-1,  2]],\n",
        "\n",
        "                     [[-1,  0],\n",
        "                      [ 1,  4],\n",
        "                      [ 1,  2],\n",
        "                      [ 3, -1]],\n",
        "\n",
        "                    [[-4,  1],\n",
        "                     [ 2,  0],\n",
        "                     [ 1,  2],\n",
        "                     [ 0,  1]]])"
      ],
      "execution_count": null,
      "outputs": []
    },
    {
      "cell_type": "code",
      "metadata": {
        "id": "2zzZFroBoHxk"
      },
      "source": [
        "print(\"array_3d:\\n\", array_3d, \"\\n\")\n",
        "\n",
        "print(\"sum of all elements in array_3d:\", array_3d.sum(), \"\\n\")\n",
        "print(\"sum along axis 0:\\n\", array_3d.sum(axis = 0), \"\\n\")\n",
        "print(\"sum along axis 1:\\n\", array_3d.sum(axis = 1), \"\\n\")\n",
        "print(\"sum along axis 2:\\n\", array_3d.sum(axis = 2))"
      ],
      "execution_count": null,
      "outputs": []
    },
    {
      "cell_type": "markdown",
      "metadata": {
        "id": "1Jb6_BPntNIq"
      },
      "source": [
        "### `np.add.reduce()`"
      ]
    },
    {
      "cell_type": "markdown",
      "metadata": {
        "id": "mSe6lxp5s9G1"
      },
      "source": [
        "*   `np.add.reduce()` is equivalent to `np.sum()`.\n",
        "*   `np.sum()` internally calls `np.add.reduce`"
      ]
    },
    {
      "cell_type": "code",
      "metadata": {
        "id": "dhqJtvp-tQed"
      },
      "source": [
        "array_2d = np.array([[1, 2, 1], \n",
        "                    [-1, 0, 3]])\n",
        "\n",
        "sum_1 = np.sum(array_2d, axis = 0)\n",
        "print(\"using np.sum:\", sum_1)\n",
        "\n",
        "sum_2 = np.add.reduce(array_2d, axis = 0)\n",
        "print(\"using np.add.reduce:\", sum_2)"
      ],
      "execution_count": null,
      "outputs": []
    },
    {
      "cell_type": "markdown",
      "metadata": {
        "id": "9ADnZNKZcZ5Y"
      },
      "source": [
        "### Maximum of the elements in an array"
      ]
    },
    {
      "cell_type": "code",
      "metadata": {
        "id": "8EisG65scqaz"
      },
      "source": [
        "array_2d = np.array([[1, 2, 1], \n",
        "                    [-1, 0, 3]])\n",
        "\n",
        "max_of_array = array_2d.max()\n",
        "print(\"max of array:\", max_of_array)\n",
        "\n",
        "max_of_array = np.max(array_2d)\n",
        "print(\"max of array alternative:\", max_of_array)\n",
        "\n",
        "max_axis_0 = array_2d.max(axis=0)\n",
        "print(\"max along axis 0:\", max_axis_0)\n",
        "\n",
        "max_axis_1 = array_2d.max(axis=1)\n",
        "print(\"max along axis 1:\", max_axis_1)\n"
      ],
      "execution_count": null,
      "outputs": []
    },
    {
      "cell_type": "code",
      "metadata": {
        "id": "xbqfmDKIuJIK"
      },
      "source": [
        "array_2d = np.array([[1, 2, 1], \n",
        "                    [-1, 0, 3]])\n",
        "\n",
        "\n",
        "sum_2 = np.maximum.reduce(array_2d, axis = 0)\n",
        "print(\"using np.maximum.reduce:\", sum_2)"
      ],
      "execution_count": null,
      "outputs": []
    },
    {
      "cell_type": "markdown",
      "metadata": {
        "id": "y1xfJXIKq9uZ"
      },
      "source": [
        "**Argmax**"
      ]
    },
    {
      "cell_type": "code",
      "metadata": {
        "id": "E-vWNjz3rAkf"
      },
      "source": [
        "array_1d = np.array([1, -1, 3, 0, 2])\n",
        "\n",
        "print(\"maximum element:\", np.max(array_1d))\n",
        "print(\"maximum element is at index:\", np.argmax(array_1d))"
      ],
      "execution_count": null,
      "outputs": []
    },
    {
      "cell_type": "markdown",
      "metadata": {
        "id": "pamEelvssjnT"
      },
      "source": [
        "### Sorting"
      ]
    },
    {
      "cell_type": "markdown",
      "metadata": {
        "id": "Fr5oaO5CteVU"
      },
      "source": [
        "#### In-place sorting vs New sorted array"
      ]
    },
    {
      "cell_type": "markdown",
      "metadata": {
        "id": "hHLXeY5wuned"
      },
      "source": [
        "`np.sort()` returns a sorted copy of an array"
      ]
    },
    {
      "cell_type": "code",
      "metadata": {
        "id": "NyMKEA_2sqBj"
      },
      "source": [
        "array_1d = np.array([1, -1, 3, 0, 2])\n",
        "\n",
        "sorted_array = np.sort(array_1d)\n",
        "\n",
        "print(\"array_1d:\", array_1d)\n",
        "print(\"sorted array:\", sorted_array)"
      ],
      "execution_count": null,
      "outputs": []
    },
    {
      "cell_type": "markdown",
      "metadata": {
        "id": "oaizQgX3urPt"
      },
      "source": [
        "`ndarray.sort()` sorts an array in-place"
      ]
    },
    {
      "cell_type": "code",
      "metadata": {
        "id": "u-UpuVJbt4CC"
      },
      "source": [
        "array_1d = np.array([1, -1, 3, 0, 2])\n",
        "\n",
        "array_1d.sort()\n",
        "print(\"array_1d:\", array_1d)"
      ],
      "execution_count": null,
      "outputs": []
    },
    {
      "cell_type": "markdown",
      "metadata": {
        "id": "azGmpj32yqp8"
      },
      "source": [
        "#### `np.argsort()`\n",
        " returns the indices that would sort an array."
      ]
    },
    {
      "cell_type": "code",
      "metadata": {
        "id": "xTgch-Zaue5r"
      },
      "source": [
        "array_1d = np.array([1, -1, 3, 0, 2])\n",
        "\n",
        "indices = np.argsort(array_1d)\n",
        "print(\"indices that would sort array_1d:\", indices)"
      ],
      "execution_count": null,
      "outputs": []
    },
    {
      "cell_type": "code",
      "metadata": {
        "id": "FQnJEIGGzzFk"
      },
      "source": [
        "print(\"Using fancy indexing with argsort:\", array_1d[indices])"
      ],
      "execution_count": null,
      "outputs": []
    },
    {
      "cell_type": "markdown",
      "metadata": {
        "id": "H5RUNlpXvCnV"
      },
      "source": [
        "### Other math functions\n",
        "\n",
        "[Link to documentation](https://numpy.org/doc/stable/reference/routines.math.html) "
      ]
    }
  ]
}